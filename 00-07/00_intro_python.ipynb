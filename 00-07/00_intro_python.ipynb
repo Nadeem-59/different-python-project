{
  "nbformat": 4,
  "nbformat_minor": 0,
  "metadata": {
    "colab": {
      "provenance": [],
      "authorship_tag": "ABX9TyPFp88Z7HZkQ4S9OeP3N1Wo",
      "include_colab_link": true
    },
    "kernelspec": {
      "name": "python3",
      "display_name": "Python 3"
    },
    "language_info": {
      "name": "python"
    }
  },
  "cells": [
    {
      "cell_type": "markdown",
      "metadata": {
        "id": "view-in-github",
        "colab_type": "text"
      },
      "source": [
        "<a href=\"https://colab.research.google.com/github/Nadeem-59/different-python-project/blob/main/00_intro_python.ipynb\" target=\"_parent\"><img src=\"https://colab.research.google.com/assets/colab-badge.svg\" alt=\"Open In Colab\"/></a>"
      ]
    },
    {
      "cell_type": "code",
      "source": [
        "from ast import Add\n",
        "print(\"01_add_two_numbers\")\n",
        "\n",
        "def add():\n",
        "  print('This Application for add two numbers')\n",
        "  first_number = int(input(\"Enter first number\"))\n",
        "  second_number = int(input(\"Enter second number\"))\n",
        "  total= int(first_number+second_number)\n",
        "  print(f'The total sum of {first_number} and {second_number} is {total}')\n",
        "if __name__ == '__main__':\n",
        "  add()\n",
        "\n",
        "\n",
        "\n"
      ],
      "metadata": {
        "colab": {
          "base_uri": "https://localhost:8080/"
        },
        "id": "lbvsRembOiXD",
        "outputId": "1c2b15e8-f4aa-4d42-b2a7-def6e6475a6f"
      },
      "execution_count": null,
      "outputs": [
        {
          "output_type": "stream",
          "name": "stdout",
          "text": [
            "01_add_two_numbers\n",
            "This Application for add two numbers\n",
            "Enter first number30\n",
            "Enter second number30\n",
            "The total sum of 30 and 30 is 60\n"
          ]
        }
      ]
    },
    {
      "cell_type": "code",
      "source": [
        "print(\"02_agreement-bot.md\")\n",
        "\n",
        "def bot():\n",
        "   animal = str(input(\"what is your favourite animal? \"))\n",
        "   print(f'My favourite animal is also {animal}')\n",
        "if __name__ == '__main__':\n",
        "  bot()\n",
        "\n"
      ],
      "metadata": {
        "colab": {
          "base_uri": "https://localhost:8080/"
        },
        "id": "T829cUi9WHrh",
        "outputId": "1a01aa13-91f4-4c63-b28c-a16747323a64"
      },
      "execution_count": null,
      "outputs": [
        {
          "output_type": "stream",
          "name": "stdout",
          "text": [
            "02_agreement-bot.md\n",
            "what is your favourite animal? cat\n",
            "My favourite animal is also cat\n"
          ]
        }
      ]
    },
    {
      "cell_type": "code",
      "source": [
        "print(\"03_fahrenheit_to_celsius.md\")\n",
        "\n",
        "def temp():\n",
        "  print(\"This code for converting fahrenheit to celsius\")\n",
        "  fahrenheit_degree = float(input(\"Enter your fahrenheit degree. \"))\n",
        "  celsius_degree = (fahrenheit_degree - 32) * 5.0/9.0\n",
        "  print(f'Temperature{fahrenheit_degree}F * {celsius_degree}C')\n",
        "if __name__ == '__main__':\n",
        "  temp()"
      ],
      "metadata": {
        "colab": {
          "base_uri": "https://localhost:8080/"
        },
        "id": "RXT-SyWhbVtI",
        "outputId": "b40aa401-1b63-4569-f02d-653402c5e52f"
      },
      "execution_count": null,
      "outputs": [
        {
          "output_type": "stream",
          "name": "stdout",
          "text": [
            "03_fahrenheit_to_celsius.md\n",
            "This code for converting fahrenheit to celsius\n",
            "Enter your fahrenheit degree. 54\n",
            "Temperature54.0F * 12.222222222222221C\n"
          ]
        }
      ]
    },
    {
      "cell_type": "code",
      "source": [
        "print(\"04_how_old_are_they.md\")\n",
        "def add_ages():\n",
        "  anthon:int = 21\n",
        "  beth:int = anthon + 6\n",
        "  chen:int = beth + 20\n",
        "  drew:int = chen + anthon\n",
        "  ethan:int =  chen\n",
        "\n",
        "  print(\"Anthon is \" +  str(anthon))\n",
        "  print(\"Beth is \" + str(beth))\n",
        "  print(\"Chen is \" + str(chen))\n",
        "  print(\"Drew is \" + str(drew))\n",
        "  print(\"Ethan is \" + str(ethan))\n",
        "if __name__ == '__main__':\n",
        "  add_ages()\n"
      ],
      "metadata": {
        "colab": {
          "base_uri": "https://localhost:8080/"
        },
        "id": "gOF1Ugoag8Ym",
        "outputId": "a3d5f6cf-6a4e-46a6-ee65-866fad396f0a"
      },
      "execution_count": null,
      "outputs": [
        {
          "output_type": "stream",
          "name": "stdout",
          "text": [
            "how_old_are_they.md\n",
            "Anthon is 21\n",
            "Beth is 27\n",
            "Chen is 47\n",
            "Drew is 68\n",
            "Ethan is 47\n"
          ]
        }
      ]
    },
    {
      "cell_type": "code",
      "source": [
        "print(\"05_triangle_perimeter.md\")\n",
        "\n",
        "def triangle():\n",
        "  print(\"This code is about perimeter of triangle \")\n",
        "  side1:float = float(input(\"Enter your first side no of triangle. \"))\n",
        "  side2:float = float(input(\"Enter your second side no of triangle. \"))\n",
        "  side3:float = float(input(\"Enter your third side no of triangle. \"))\n",
        "  total:float = float(side1 + side2 + side3)\n",
        "  print(f'The perimeter  of {side1}, {side2} and {side3} is {total}')\n",
        "\n",
        "if __name__ == '__main__':\n",
        "    triangle()\n"
      ],
      "metadata": {
        "colab": {
          "base_uri": "https://localhost:8080/"
        },
        "id": "voIKZLvBk--h",
        "outputId": "8e7e81fe-5441-4efd-c8ec-9179e3749d3a"
      },
      "execution_count": null,
      "outputs": [
        {
          "output_type": "stream",
          "name": "stdout",
          "text": [
            "05_triangle_perimeter.md\n",
            "This code is about perimeter of triangle \n",
            "Enter your first side no of triangle. 6\n",
            "Enter your second side no of triangle. 5.5\n",
            "Enter your third side no of triangle. 9\n",
            "The perimeter  of 6.0, 5.5 and 9.0 is 20.5\n"
          ]
        }
      ]
    },
    {
      "cell_type": "markdown",
      "source": [],
      "metadata": {
        "id": "j4mEUUIXjVub"
      }
    },
    {
      "cell_type": "code",
      "source": [
        "print(\"06_square_number.md\")\n",
        "\n",
        "def square():\n",
        "  print(\"This code is about square of given number\")\n",
        "  num1:int = int(input(\"Enter any number and i will give u a square  value. \"))\n",
        "  print(f'The square of {num1} is {num1** 2}')\n",
        "\n",
        "if __name__ == '__main__':\n",
        "    square()"
      ],
      "metadata": {
        "colab": {
          "base_uri": "https://localhost:8080/"
        },
        "id": "H2z7KveLprfr",
        "outputId": "7736496b-bda7-445c-c57a-728b272c3631"
      },
      "execution_count": null,
      "outputs": [
        {
          "output_type": "stream",
          "name": "stdout",
          "text": [
            "06_square_number.md\n",
            "This code is about square of given number\n",
            "Enter any number and i will give u a square  value. 5\n",
            "The square of 5 is 25\n"
          ]
        }
      ]
    }
  ]
}