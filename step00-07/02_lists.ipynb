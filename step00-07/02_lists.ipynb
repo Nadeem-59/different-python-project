{
  "cells": [
    {
      "cell_type": "markdown",
      "metadata": {
        "id": "view-in-github",
        "colab_type": "text"
      },
      "source": [
        "<a href=\"https://colab.research.google.com/github/Nadeem-59/different-python-project/blob/main/02_lists.ipynb\" target=\"_parent\"><img src=\"https://colab.research.google.com/assets/colab-badge.svg\" alt=\"Open In Colab\"/></a>"
      ]
    },
    {
      "cell_type": "code",
      "execution_count": null,
      "metadata": {
        "colab": {
          "base_uri": "https://localhost:8080/"
        },
        "id": "YyTLGanr93O0",
        "outputId": "f6ca1437-1b2c-4625-b8d6-c003d234ec87"
      },
      "outputs": [
        {
          "name": "stdout",
          "output_type": "stream",
          "text": [
            "01_add_many_number\n",
            "21\n"
          ]
        }
      ],
      "source": [
        "print(\"01_add_many_number\")\n",
        "\n",
        "def add_numbers(numbers)->int:\n",
        "  num:int = 0\n",
        "  for n in numbers:\n",
        "    num += n\n",
        "\n",
        "  return num\n",
        "\n",
        "def main():\n",
        "  numbers:list[int] = [1,2,3,4,5,6]\n",
        "  sum:int = add_numbers(numbers)\n",
        "  print(sum)\n",
        "\n",
        "if __name__ == \"__main__\":\n",
        "    main()"
      ]
    },
    {
      "cell_type": "code",
      "execution_count": null,
      "metadata": {
        "colab": {
          "base_uri": "https://localhost:8080/"
        },
        "id": "qXUz-wX4ffAH",
        "outputId": "cfbe78d0-679a-4dab-fa33-39a1692a046d"
      },
      "outputs": [
        {
          "output_type": "stream",
          "name": "stdout",
          "text": [
            "02_double_list\n",
            "[2, 4, 6, 8, 10]\n"
          ]
        }
      ],
      "source": [
        "print(\"02_double_list\")\n",
        "\n",
        "def main():\n",
        "  numbers:list[int] =[1,2,3,4,5]\n",
        "  for i in range(len(numbers)):\n",
        "    index = numbers[i]\n",
        "    numbers[i] = index * 2\n",
        "  print(numbers)\n",
        "\n",
        "if __name__ == \"__main__\":\n",
        "  main()\n",
        "\n",
        "  # 1 aya phele i kay andar double hokar 2 hogaya isi tara 2 double hokar 4 hogaya phr 3 i mei akar double hogaya 6 aya answer phr 4 double hwa then phr 5 is tara\n"
      ]
    },
    {
      "cell_type": "code",
      "execution_count": null,
      "metadata": {
        "colab": {
          "base_uri": "https://localhost:8080/"
        },
        "id": "ci0iIMoUfm-O",
        "outputId": "c99756a7-d590-4189-828d-29921f742415"
      },
      "outputs": [
        {
          "name": "stdout",
          "output_type": "stream",
          "text": [
            "04_flowing_with_data_structures\n",
            "Enter a message to copy: Eid Mubarak\n",
            "List before: []\n",
            "List after: ['Eid Mubarak', 'Eid Mubarak', 'Eid Mubarak']\n"
          ]
        }
      ],
      "source": [
        "print(\"04_flowing_with_data_structures\")\n",
        "\n",
        "def add_copies(my_list,data):\n",
        "  for i in range(3):\n",
        "    my_list.append(data)\n",
        "\n",
        "def main():\n",
        "  message = input(\"Enter a message to copy: \")\n",
        "  my_list = []\n",
        "  print(\"List before:\",my_list)\n",
        "  add_copies(my_list,message)\n",
        "  print(\"List after:\",my_list)\n",
        "\n",
        "if __name__ == \"__main__\":\n",
        "  main()"
      ]
    },
    {
      "cell_type": "code",
      "execution_count": null,
      "metadata": {
        "colab": {
          "base_uri": "https://localhost:8080/"
        },
        "id": "5rOLOsGCf_qz",
        "outputId": "e20ca7e6-4990-455b-da54-84eff1325b72"
      },
      "outputs": [
        {
          "output_type": "stream",
          "name": "stdout",
          "text": [
            "05_get_first_element\n",
            "Enter an element to add to the list k\n",
            "Enter an element to add to the list m\n",
            "Enter an element to add to the list s\n",
            "Enter an element to add to the list \n",
            "k\n"
          ]
        }
      ],
      "source": [
        "\n",
        "print(\"05_get_first_element\")\n",
        "\n",
        "def get__first_element(lst):\n",
        "  print(lst[0])\n",
        "\n",
        "def get_lst():\n",
        "  lst = []\n",
        "  elem:str = input(\"Enter an element to add to the list \")\n",
        "  while elem != \"\":\n",
        "    lst.append(elem)\n",
        "    elem = input(\"Enter an element to add to the list \")\n",
        "  return lst\n",
        "\n",
        "def main():\n",
        "  lst = get_lst()\n",
        "  get__first_element(lst)\n",
        "\n",
        "if __name__ == \"__main__\":\n",
        "  main()"
      ]
    },
    {
      "cell_type": "code",
      "execution_count": null,
      "metadata": {
        "colab": {
          "base_uri": "https://localhost:8080/"
        },
        "id": "h1I5ZrijgOmu",
        "outputId": "33ecbf65-dbf0-442a-f52e-e39a22d64834"
      },
      "outputs": [
        {
          "output_type": "stream",
          "name": "stdout",
          "text": [
            "06_get_last_element\n",
            "Enter an element to add to the list k\n",
            "Enter an element to add to the list h\n",
            "Enter an element to add to the list a\n",
            "Enter an element to add to the list l\n",
            "Enter an element to add to the list i\n",
            "Enter an element to add to the list d\n",
            "Enter an element to add to the list \n",
            "d\n"
          ]
        }
      ],
      "source": [
        "print(\"06_get_last_element\")\n",
        "\n",
        "def get_last_element(lst):\n",
        "  print(lst[-1])\n",
        "def get_lst():\n",
        "  lst = []\n",
        "  elem:str = input(\"Enter an element to add to the list \")\n",
        "  while elem != \"\":\n",
        "    lst.append(elem)\n",
        "    elem = input(\"Enter an element to add to the list \")\n",
        "  return lst\n",
        "\n",
        "def main():\n",
        "  lst = get_lst()\n",
        "  get_last_element(lst)\n",
        "\n",
        "if __name__ == \"__main__\":\n",
        "  main()"
      ]
    },
    {
      "cell_type": "code",
      "execution_count": null,
      "metadata": {
        "colab": {
          "base_uri": "https://localhost:8080/"
        },
        "id": "dRhBv2C8hwYA",
        "outputId": "7869e66d-2d62-4132-f7a1-e703308b5c58"
      },
      "outputs": [
        {
          "output_type": "stream",
          "name": "stdout",
          "text": [
            "07_get_list\n",
            "Enter a value to add to the list perfume\n",
            "Enter a value to add to the list lipstick\n",
            "Enter a value to add to the list sandles\n",
            "Enter a value to add to the list makeup-kit\n",
            "Enter a value to add to the list clothes\n",
            "Enter a value to add to the list bangles\n",
            "Enter a value to add to the list \n",
            "Here is the list: ['perfume', 'lipstick', 'sandles', 'makeup-kit', 'clothes', 'bangles']\n"
          ]
        }
      ],
      "source": [
        "print(\"07_get_list\")\n",
        "\n",
        "def main():\n",
        "  lst = []\n",
        "  val = input(\"Enter a value to add to the list \")\n",
        "  while val:\n",
        "    lst.append(val)\n",
        "    val = input(\"Enter a value to add to the list \")\n",
        "  print(\"Here is the list:\",lst)\n",
        "\n",
        "if __name__ == \"__main__\":\n",
        "  main()"
      ]
    },
    {
      "cell_type": "code",
      "source": [
        "print(\"08_shorten\")\n",
        "\n",
        "MAX_LENGTH:int = 3\n",
        "def shorten(lst):\n",
        "  while len(lst) > MAX_LENGTH:\n",
        "    last_element = lst.pop()\n",
        "    print(last_element)\n",
        "\n",
        "def get_lst():\n",
        "  lst = []\n",
        "  element = input(\"Enter an element to add to the list: \")\n",
        "  while element != \"\":\n",
        "    lst.append(element)\n",
        "    element = input(\"Enter an element to add to the list: \")\n",
        "  return lst\n",
        "\n",
        "def main():\n",
        "  lst = get_lst()\n",
        "  shorten(lst)\n",
        "\n",
        "if __name__ == \"__main__\":\n",
        "  main()"
      ],
      "metadata": {
        "colab": {
          "base_uri": "https://localhost:8080/"
        },
        "id": "y6ImJtBmmYIt",
        "outputId": "2fe2bf43-fcf7-4b85-b5e2-efb6e4f5d249"
      },
      "execution_count": null,
      "outputs": [
        {
          "output_type": "stream",
          "name": "stdout",
          "text": [
            "08_shorten\n",
            "Enter an element to add to the list: p\n",
            "Enter an element to add to the list: y\n",
            "Enter an element to add to the list: t\n",
            "Enter an element to add to the list: h\n",
            "Enter an element to add to the list: o\n",
            "Enter an element to add to the list: n\n",
            "Enter an element to add to the list: \n",
            "n\n",
            "o\n",
            "h\n"
          ]
        }
      ]
    }
  ],
  "metadata": {
    "colab": {
      "provenance": [],
      "authorship_tag": "ABX9TyOVN9RDxT/hbSD18CBnjT57",
      "include_colab_link": true
    },
    "kernelspec": {
      "display_name": "Python 3",
      "name": "python3"
    },
    "language_info": {
      "name": "python"
    }
  },
  "nbformat": 4,
  "nbformat_minor": 0
}