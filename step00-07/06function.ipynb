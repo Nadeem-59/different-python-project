{
  "nbformat": 4,
  "nbformat_minor": 0,
  "metadata": {
    "colab": {
      "provenance": [],
      "authorship_tag": "ABX9TyNcNgH7LOyolI0otslIeIIG",
      "include_colab_link": true
    },
    "kernelspec": {
      "name": "python3",
      "display_name": "Python 3"
    },
    "language_info": {
      "name": "python"
    }
  },
  "cells": [
    {
      "cell_type": "markdown",
      "metadata": {
        "id": "view-in-github",
        "colab_type": "text"
      },
      "source": [
        "<a href=\"https://colab.research.google.com/github/Nadeem-59/different-python-project/blob/main/06function.ipynb\" target=\"_parent\"><img src=\"https://colab.research.google.com/assets/colab-badge.svg\" alt=\"Open In Colab\"/></a>"
      ]
    },
    {
      "cell_type": "code",
      "source": [],
      "metadata": {
        "id": "BeGnfIyFr9cl"
      },
      "execution_count": null,
      "outputs": []
    },
    {
      "cell_type": "markdown",
      "source": [
        "00 Averages\n"
      ],
      "metadata": {
        "id": "G65VqHqGsH30"
      }
    },
    {
      "cell_type": "code",
      "source": [
        "def find_average(num1, num2):\n",
        "    return (num1 + num2) / 2  # Calculate and return the average\n",
        "\n",
        "def main():\n",
        "    # Get two numbers from the user\n",
        "    num1 = float(input(\"Enter the first number: \"))\n",
        "    num2 = float(input(\"Enter the second number: \"))\n",
        "\n",
        "    # Call the function and print the result\n",
        "    avg = find_average(num1, num2)\n",
        "    print(f\"The average of {num1} and {num2} is {avg}\")\n",
        "\n",
        "# This provided line is required at the end of\n",
        "# Python file to call the main() function.\n",
        "if __name__ == '__main__':\n",
        "    main()\n",
        "\n"
      ],
      "metadata": {
        "colab": {
          "base_uri": "https://localhost:8080/"
        },
        "id": "dJH7duqAsLk0",
        "outputId": "1e9a2b93-b1c6-432f-bb49-d355b7e6afa3"
      },
      "execution_count": 4,
      "outputs": [
        {
          "output_type": "stream",
          "name": "stdout",
          "text": [
            "Enter the first number: 8\n",
            "Enter the second number: 16\n",
            "The average of 8.0 and 16.0 is 12.0\n"
          ]
        }
      ]
    },
    {
      "cell_type": "markdown",
      "source": [
        "01_Choatic-Counting\n"
      ],
      "metadata": {
        "id": "gj5yiB_iseKD"
      }
    },
    {
      "cell_type": "code",
      "source": [
        "import random\n",
        "\n",
        "DONE_LIKELIHOOD = 0.2  # Adjust this value to change how often we stop early\n",
        "\n",
        "def done():\n",
        "    return random.random() < DONE_LIKELIHOOD\n",
        "\n",
        "def chaotic_counting():\n",
        "    for i in range(1, 11):\n",
        "        if done():\n",
        "            return  # Stops execution if done() returns True\n",
        "        print(i)\n",
        "\n",
        "def main():\n",
        "    print(\"I'm going to count until 10 or until I feel like stopping, whichever comes first.\")\n",
        "    chaotic_counting()\n",
        "    print(\"I'm done.\")\n",
        "\n",
        "if __name__ == '__main__':\n",
        "    main()\n",
        "\n"
      ],
      "metadata": {
        "colab": {
          "base_uri": "https://localhost:8080/"
        },
        "id": "dUIWg41Vsmkq",
        "outputId": "d539f1d2-d666-4669-af1f-461153d059e6"
      },
      "execution_count": 5,
      "outputs": [
        {
          "output_type": "stream",
          "name": "stdout",
          "text": [
            "I'm going to count until 10 or until I feel like stopping, whichever comes first.\n",
            "1\n",
            "I'm done.\n"
          ]
        }
      ]
    },
    {
      "cell_type": "markdown",
      "source": [
        "02-Count-Even\n",
        "\n"
      ],
      "metadata": {
        "id": "0eo0CMfas1yd"
      }
    },
    {
      "cell_type": "code",
      "source": [
        "def count_even():\n",
        "    numbers = []\n",
        "\n",
        "    while True:\n",
        "        user_input = input(\"Enter an integer or press enter to stop: \")\n",
        "        if user_input == \"\":\n",
        "            break\n",
        "        try:\n",
        "            numbers.append(int(user_input))\n",
        "        except ValueError:\n",
        "            print(\"Please enter a valid integer.\")\n",
        "\n",
        "    even_count = sum(1 for num in numbers if num % 2 == 0)\n",
        "    print(f\"Number of even numbers: {even_count}\")\n",
        "\n",
        "def main():\n",
        "    count_even()\n",
        "\n",
        "if __name__ == '__main__':\n",
        "    main()"
      ],
      "metadata": {
        "colab": {
          "base_uri": "https://localhost:8080/"
        },
        "id": "AejWP2sftAjM",
        "outputId": "669b77db-018e-4ef4-81a9-84d842125f9b"
      },
      "execution_count": 6,
      "outputs": [
        {
          "output_type": "stream",
          "name": "stdout",
          "text": [
            "Enter an integer or press enter to stop: 6\n",
            "Enter an integer or press enter to stop: 7\n",
            "Enter an integer or press enter to stop: \n",
            "Number of even numbers: 1\n"
          ]
        }
      ]
    },
    {
      "cell_type": "markdown",
      "source": [
        "04-double"
      ],
      "metadata": {
        "id": "S420s5b0tN17"
      }
    },
    {
      "cell_type": "code",
      "source": [
        "def double(num):\n",
        "    return num * 2\n",
        "\n",
        "def main():\n",
        "    try:\n",
        "        user_input = float(input(\"Enter a number: \"))\n",
        "        result = double(user_input)\n",
        "        print(f\"Double that is {result}\")\n",
        "    except ValueError:\n",
        "        print(\"Please enter a valid number.\")\n",
        "\n",
        "if __name__ == '__main__':\n",
        "    main()\n"
      ],
      "metadata": {
        "colab": {
          "base_uri": "https://localhost:8080/"
        },
        "id": "3IH4N1KwtXPO",
        "outputId": "43f32689-03fc-4879-bb5c-4ef71116efb0"
      },
      "execution_count": 7,
      "outputs": [
        {
          "output_type": "stream",
          "name": "stdout",
          "text": [
            "Enter a number: 5\n",
            "Double that is 10.0\n"
          ]
        }
      ]
    },
    {
      "cell_type": "markdown",
      "source": [
        "05_get_name\n"
      ],
      "metadata": {
        "id": "rb27obTVuFKU"
      }
    },
    {
      "cell_type": "code",
      "source": [
        "def get_name():\n",
        "    return \"sara\"\n",
        "\n",
        "def main():\n",
        "    name = get_name()\n",
        "    print(f\"Howdy {name}! 🤠\")\n",
        "\n",
        "if __name__ == '__main__':\n",
        "    main()\n"
      ],
      "metadata": {
        "colab": {
          "base_uri": "https://localhost:8080/"
        },
        "id": "O-P96D8guOyb",
        "outputId": "145115d3-82c8-4b23-bef6-1bb0b1866422"
      },
      "execution_count": 10,
      "outputs": [
        {
          "output_type": "stream",
          "name": "stdout",
          "text": [
            "Howdy sara! 🤠\n"
          ]
        }
      ]
    },
    {
      "cell_type": "markdown",
      "source": [
        "06_is odd"
      ],
      "metadata": {
        "id": "rvla-10Nui67"
      }
    },
    {
      "cell_type": "code",
      "source": [
        "def main():\n",
        "    for num in range(10, 20):\n",
        "        if num % 2 == 0:\n",
        "            print(f\"{num} even\")\n",
        "        else:\n",
        "            print(f\"{num} odd\")\n",
        "\n",
        "if __name__ == '__main__':\n",
        "    main()\n"
      ],
      "metadata": {
        "colab": {
          "base_uri": "https://localhost:8080/"
        },
        "id": "tHPIifupupb8",
        "outputId": "29d5c6d7-9c69-4f4c-8cab-0ce8c93f8bfb"
      },
      "execution_count": 11,
      "outputs": [
        {
          "output_type": "stream",
          "name": "stdout",
          "text": [
            "10 even\n",
            "11 odd\n",
            "12 even\n",
            "13 odd\n",
            "14 even\n",
            "15 odd\n",
            "16 even\n",
            "17 odd\n",
            "18 even\n",
            "19 odd\n"
          ]
        }
      ]
    },
    {
      "cell_type": "markdown",
      "source": [
        "07_print_divisor.md"
      ],
      "metadata": {
        "id": "rPP-WSoDu4cU"
      }
    },
    {
      "cell_type": "code",
      "source": [
        "def print_divisors(num):\n",
        "    print(f\"Here are the divisors of {num}\")\n",
        "    for i in range(1, num + 1):\n",
        "        if num % i == 0:\n",
        "            print(i, end=\" \")\n",
        "    print()  # Add a new line after printing all divisors\n",
        "\n",
        "def main():\n",
        "    num = int(input(\"Enter a number: \"))\n",
        "    print_divisors(num)\n",
        "\n",
        "if __name__ == '__main__':\n",
        "    main()\n",
        ""
      ],
      "metadata": {
        "colab": {
          "base_uri": "https://localhost:8080/"
        },
        "id": "2Bulpl7su6mb",
        "outputId": "ed5dfced-1447-473d-9666-cb59764e9924"
      },
      "execution_count": 12,
      "outputs": [
        {
          "output_type": "stream",
          "name": "stdout",
          "text": [
            "Enter a number: 8\n",
            "Here are the divisors of 8\n",
            "1 2 4 8 \n"
          ]
        }
      ]
    },
    {
      "cell_type": "markdown",
      "source": [
        "08_print_multiple.md"
      ],
      "metadata": {
        "id": "fQvlX26jvVEc"
      }
    },
    {
      "cell_type": "code",
      "source": [
        "def print_multiple(message, repeats):\n",
        "    for _ in range(repeats):\n",
        "        print(message, end=\" \")  # Print the message multiple times on the same line with a space\n",
        "\n",
        "def main():\n",
        "    message = input(\"Please type a message: \")\n",
        "    repeats = int(input(\"Enter a number of times to repeat your message: \"))\n",
        "    print_multiple(message, repeats)\n",
        "\n",
        "if __name__ == '__main__':\n",
        "    main()\n",
        "\n"
      ],
      "metadata": {
        "colab": {
          "base_uri": "https://localhost:8080/"
        },
        "id": "pTpzLEW0vXfz",
        "outputId": "15518351-b055-4f30-c5b0-efe1457fb735"
      },
      "execution_count": 13,
      "outputs": [
        {
          "output_type": "stream",
          "name": "stdout",
          "text": [
            "Please type a message: i learn python\n",
            "Enter a number of times to repeat your message: 3\n",
            "i learn python i learn python i learn python "
          ]
        }
      ]
    },
    {
      "cell_type": "markdown",
      "source": [
        "09_sentence_generator.md"
      ],
      "metadata": {
        "id": "mBSi6Hw6v3Ms"
      }
    },
    {
      "cell_type": "code",
      "source": [
        "def make_sentence(word, part_of_speech):\n",
        "    if part_of_speech == 0:\n",
        "        print(f\"I am excited to add this {word} to my vast collection of them!\")\n",
        "    elif part_of_speech == 1:\n",
        "        print(f\"It's so nice outside today it makes me want to {word}!\")\n",
        "    elif part_of_speech == 2:\n",
        "        print(f\"Looking out my window, the sky is big and {word}!\")\n",
        "    else:\n",
        "        print(\"Invalid input! Please enter 0 for noun, 1 for verb, or 2 for adjective.\")\n",
        "\n",
        "def main():\n",
        "    word = input(\"Please type a noun, verb, or adjective: \")\n",
        "    part_of_speech = int(input(\"Is this a noun, verb, or adjective? Type 0 for noun, 1 for verb, 2 for adjective: \"))\n",
        "    make_sentence(word, part_of_speech)\n",
        "\n",
        "if __name__ == '__main__':\n",
        "    main()\n"
      ],
      "metadata": {
        "colab": {
          "base_uri": "https://localhost:8080/"
        },
        "id": "ftI3gmrPv6YW",
        "outputId": "3c8a6cff-c261-4643-b02a-8f9cb421303e"
      },
      "execution_count": 16,
      "outputs": [
        {
          "output_type": "stream",
          "name": "stdout",
          "text": [
            "Please type a noun, verb, or adjective: shahzain,playing,fantastic\n",
            "Is this a noun, verb, or adjective? Type 0 for noun, 1 for verb, 2 for adjective: 2\n",
            "Looking out my window, the sky is big and shahzain,playing,fantastic!\n"
          ]
        }
      ]
    },
    {
      "cell_type": "markdown",
      "source": [
        "10_print_ones_digit"
      ],
      "metadata": {
        "id": "lXyO-QoRxHvi"
      }
    },
    {
      "cell_type": "code",
      "source": [
        "def print_ones_digit(num):\n",
        "    ones_digit = num % 10  # Get the ones digit using the modulo operator\n",
        "    print(f\"The ones digit is {ones_digit}\")\n",
        "\n",
        "def main():\n",
        "    num = int(input(\"Enter a number: \"))  # Prompt the user to enter a number\n",
        "    print_ones_digit(num)  # Call the function with the user's input\n",
        "\n",
        "# This provided line is required at the end of the Python file to call the main() function.\n",
        "if __name__ == '__main__':\n",
        "    main()\n",
        "\n"
      ],
      "metadata": {
        "colab": {
          "base_uri": "https://localhost:8080/"
        },
        "id": "6aVzfWdpxVDb",
        "outputId": "87fce7c5-24cf-41df-8fae-143468ea3874"
      },
      "execution_count": 17,
      "outputs": [
        {
          "output_type": "stream",
          "name": "stdout",
          "text": [
            "Enter a number: 4\n",
            "The ones digit is 4\n"
          ]
        }
      ]
    }
  ]
}