{
  "nbformat": 4,
  "nbformat_minor": 0,
  "metadata": {
    "colab": {
      "provenance": [],
      "authorship_tag": "ABX9TyNnnRpZj5MWDjY3HU85tW1l",
      "include_colab_link": true
    },
    "kernelspec": {
      "name": "python3",
      "display_name": "Python 3"
    },
    "language_info": {
      "name": "python"
    }
  },
  "cells": [
    {
      "cell_type": "markdown",
      "metadata": {
        "id": "view-in-github",
        "colab_type": "text"
      },
      "source": [
        "<a href=\"https://colab.research.google.com/github/Nadeem-59/different-python-project/blob/main/07_information_flow.ipynb\" target=\"_parent\"><img src=\"https://colab.research.google.com/assets/colab-badge.svg\" alt=\"Open In Colab\"/></a>"
      ]
    },
    {
      "cell_type": "code",
      "execution_count": null,
      "metadata": {
        "id": "ezyuxh1mbVl0"
      },
      "outputs": [],
      "source": []
    },
    {
      "cell_type": "markdown",
      "source": [
        "00_choosing_returns.md"
      ],
      "metadata": {
        "id": "TVpKWcXrbxpp"
      }
    },
    {
      "cell_type": "code",
      "source": [
        "# The age considered as legally adult in the United States\n",
        "ADULT_AGE = 18\n",
        "\n",
        "def is_adult(age):\n",
        "    # Check if the age is greater than or equal to ADULT_AGE\n",
        "    if age >= ADULT_AGE:\n",
        "        return True\n",
        "    else:\n",
        "        return False\n",
        "\n",
        "def main():\n",
        "    # Prompt the user to input an age\n",
        "    age = int(input(\"How old is this person?: \"))\n",
        "    # Call the is_adult function and print the result\n",
        "    print(is_adult(age))\n",
        "\n",
        "# This provided line is required at the end of the Python file to call the main() function.\n",
        "if __name__ == '__main__':\n",
        "    main()\n"
      ],
      "metadata": {
        "colab": {
          "base_uri": "https://localhost:8080/"
        },
        "id": "IomCyB-bb9vi",
        "outputId": "15ce86ae-2384-4f82-b32e-463dbfbae077"
      },
      "execution_count": 1,
      "outputs": [
        {
          "output_type": "stream",
          "name": "stdout",
          "text": [
            "How old is this person?: 20\n",
            "True\n"
          ]
        }
      ]
    },
    {
      "cell_type": "markdown",
      "source": [
        "01_greetings.md"
      ],
      "metadata": {
        "id": "WUv_k9Docae4"
      }
    },
    {
      "cell_type": "code",
      "source": [
        "def greet(name):\n",
        "    # Print the greeting message with the provided name\n",
        "    print(f\"Greetings {name}!\")\n",
        "\n",
        "def main():\n",
        "    # Prompt the user to input their name\n",
        "    name = input(\"What's your name? \")\n",
        "    # Call the greet function with the inputted name\n",
        "    greet(name)\n",
        "\n",
        "# This provided line is required at the end of the Python file to call the main() function.\n",
        "if __name__ == '__main__':\n",
        "    main()"
      ],
      "metadata": {
        "colab": {
          "base_uri": "https://localhost:8080/"
        },
        "id": "JKevRMnQcfnl",
        "outputId": "1e8cb1c7-d960-4da6-8ab9-2af8e2569019"
      },
      "execution_count": 2,
      "outputs": [
        {
          "output_type": "stream",
          "name": "stdout",
          "text": [
            "What's your name? shahmeer\n",
            "Greetings shahmeer!\n"
          ]
        }
      ]
    },
    {
      "cell_type": "markdown",
      "source": [
        "02_in_range.md"
      ],
      "metadata": {
        "id": "oCg8KBqNco1J"
      }
    },
    {
      "cell_type": "code",
      "source": [
        "def in_range(n, low, high):\n",
        "    \"\"\"\n",
        "    Returns True if n is between low and high, inclusive.\n",
        "    high is guaranteed to be greater than low.\n",
        "    \"\"\"\n",
        "    return low <= n <= high\n",
        "\n",
        "def main():\n",
        "    # Example usage\n",
        "    n = int(input(\"Enter a number: \"))\n",
        "    low = int(input(\"Enter the lower bound: \"))\n",
        "    high = int(input(\"Enter the upper bound: \"))\n",
        "\n",
        "    if in_range(n, low, high):\n",
        "        print(f\"{n} is in the range {low} to {high}.\")\n",
        "    else:\n",
        "        print(f\"{n} is not in the range {low} to {high}.\")\n",
        "\n",
        "# This provided line is required at the end of the Python file to call the main() function.\n",
        "if __name__ == '__main__':\n",
        "    main()"
      ],
      "metadata": {
        "colab": {
          "base_uri": "https://localhost:8080/"
        },
        "id": "NRtW2lTscuki",
        "outputId": "fc76c3e9-1b19-43ec-dc02-8a394ba367dd"
      },
      "execution_count": 3,
      "outputs": [
        {
          "output_type": "stream",
          "name": "stdout",
          "text": [
            "Enter a number: 7\n",
            "Enter the lower bound: 3\n",
            "Enter the upper bound: 8\n",
            "7 is in the range 3 to 8.\n"
          ]
        }
      ]
    },
    {
      "cell_type": "markdown",
      "source": [
        "03_in_stock.md"
      ],
      "metadata": {
        "id": "Bnp8g6C5c6UY"
      }
    },
    {
      "cell_type": "code",
      "source": [
        "def num_in_stock(fruit):\n",
        "    \"\"\"\n",
        "    Returns the number of the given fruit in Sophia's inventory.\n",
        "    \"\"\"\n",
        "    # Sophia's inventory\n",
        "    inventory = {\n",
        "        \"apple\": 50,\n",
        "        \"banana\": 25,\n",
        "        \"pear\": 1000,\n",
        "        \"orange\": 30\n",
        "    }\n",
        "    # Return the count of the fruit or 0 if it's not in the inventory\n",
        "    return inventory.get(fruit.lower(), 0)\n",
        "\n",
        "def main():\n",
        "    # Prompt the user to enter a fruit\n",
        "    fruit = input(\"Enter a fruit: \")\n",
        "\n",
        "    # Get the number of that fruit in stock\n",
        "    stock = num_in_stock(fruit)\n",
        "\n",
        "    # Print the appropriate message\n",
        "    if stock > 0:\n",
        "        print(f\"This fruit is in stock! Here is how many:\\n{stock}\")\n",
        "    else:\n",
        "        print(\"This fruit is not in stock.\")\n",
        "\n",
        "# This provided line is required at the end of the Python file to call the main() function.\n",
        "if __name__ == '__main__':\n",
        "    main()\n"
      ],
      "metadata": {
        "colab": {
          "base_uri": "https://localhost:8080/"
        },
        "id": "GppyxeMcdARo",
        "outputId": "ce16d407-fa20-4be8-9988-c6c0ab44632d"
      },
      "execution_count": 5,
      "outputs": [
        {
          "output_type": "stream",
          "name": "stdout",
          "text": [
            "Enter a fruit: apple\n",
            "This fruit is in stock! Here is how many:\n",
            "50\n"
          ]
        }
      ]
    },
    {
      "cell_type": "markdown",
      "source": [
        "04_multiple_returns.md"
      ],
      "metadata": {
        "id": "U32teiV6dSvw"
      }
    },
    {
      "cell_type": "code",
      "source": [
        "def get_user_data():\n",
        "    \"\"\"\n",
        "    Asks the user for their first name, last name, and email address, and returns them as a tuple.\n",
        "    \"\"\"\n",
        "    # Prompt the user for their first name\n",
        "    first_name = input(\"What is your first name?: \")\n",
        "\n",
        "    # Prompt the user for their last name\n",
        "    last_name = input(\"What is your last name?: \")\n",
        "\n",
        "    # Prompt the user for their email address\n",
        "    email = input(\"What is your email address?: \")\n",
        "\n",
        "    # Return all three pieces of data as a tuple\n",
        "    return first_name, last_name, email\n",
        "\n",
        "def main():\n",
        "    # Call the get_user_data function and store the returned values\n",
        "    user_data = get_user_data()\n",
        "\n",
        "    # Print the received user data\n",
        "    print(f\"Received the following user data: {user_data}\")\n",
        "\n",
        "# This provided line is required at the end of the Python file to call the main() function.\n",
        "if __name__ == '__main__':\n",
        "    main()\n"
      ],
      "metadata": {
        "colab": {
          "base_uri": "https://localhost:8080/"
        },
        "id": "2btFdqkmdXLa",
        "outputId": "9c07a1bc-be78-48d5-a318-9be86cbb117d"
      },
      "execution_count": 6,
      "outputs": [
        {
          "output_type": "stream",
          "name": "stdout",
          "text": [
            "What is your first name?: mustabshira\n",
            "What is your last name?: khalid\n",
            "What is your email address?: abc@gmail.com\n",
            "Received the following user data: ('mustabshira', 'khalid', 'abc@gmail.com')\n"
          ]
        }
      ]
    },
    {
      "cell_type": "markdown",
      "source": [],
      "metadata": {
        "id": "KRrMyU5rdtsI"
      }
    },
    {
      "cell_type": "markdown",
      "source": [
        "05_subtract_7.md"
      ],
      "metadata": {
        "id": "aNDLMH-yd3JZ"
      }
    },
    {
      "cell_type": "code",
      "source": [
        "def subtract_seven(num):\n",
        "    \"\"\"\n",
        "    Subtracts 7 from the given number and returns the result.\n",
        "    \"\"\"\n",
        "    return num - 7\n",
        "\n",
        "def main():\n",
        "    # Prompt the user for a number\n",
        "    num = int(input(\"Enter a number: \"))\n",
        "\n",
        "    # Call the subtract_seven function and store the result\n",
        "    result = subtract_seven(num)\n",
        "\n",
        "    # Print the result\n",
        "    print(f\"The result after subtracting 7 is: {result}\")\n",
        "\n",
        "# This provided line is required at the end of the Python file to call the main() function.\n",
        "if __name__ == '__main__':\n",
        "    main()\n"
      ],
      "metadata": {
        "colab": {
          "base_uri": "https://localhost:8080/"
        },
        "id": "VnnoGq38d_Ug",
        "outputId": "a2337c0c-85fb-437d-bd0e-e981e0a26a21"
      },
      "execution_count": 7,
      "outputs": [
        {
          "output_type": "stream",
          "name": "stdout",
          "text": [
            "Enter a number: 7\n",
            "The result after subtracting 7 is: 0\n"
          ]
        }
      ]
    },
    {
      "cell_type": "markdown",
      "source": [],
      "metadata": {
        "id": "jY7r_gpVbw8v"
      }
    }
  ]
}